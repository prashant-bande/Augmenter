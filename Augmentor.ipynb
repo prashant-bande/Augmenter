{
 "cells": [
  {
   "cell_type": "markdown",
   "metadata": {},
   "source": [
    "# Augmentor"
   ]
  },
  {
   "cell_type": "code",
   "execution_count": 1,
   "metadata": {},
   "outputs": [],
   "source": [
    "####!pip install Augmentor"
   ]
  },
  {
   "cell_type": "code",
   "execution_count": 14,
   "metadata": {},
   "outputs": [
    {
     "name": "stderr",
     "output_type": "stream",
     "text": [
      "C:\\Users\\Yogesh\\AppData\\Local\\Continuum\\anaconda3\\envs\\Tensorflow\\lib\\site-packages\\PIL\\TiffImagePlugin.py:804: UserWarning: Corrupt EXIF data.  Expecting to read 4 bytes but only got 0. \n",
      "  warnings.warn(str(msg))\n"
     ]
    },
    {
     "name": "stdout",
     "output_type": "stream",
     "text": [
      "Initialised with 89 image(s) found.\n",
      "Output directory set to C:\\Users\\Yogesh\\Desktop\\new\\output."
     ]
    }
   ],
   "source": [
    "import Augmentor\n",
    "p = Augmentor.Pipeline(r\"C:\\Users\\Yogesh\\Desktop\\new\")"
   ]
  },
  {
   "cell_type": "code",
   "execution_count": 15,
   "metadata": {},
   "outputs": [],
   "source": [
    "p.rotate(probability=0.3, max_left_rotation=10, max_right_rotation=10)"
   ]
  },
  {
   "cell_type": "code",
   "execution_count": 16,
   "metadata": {},
   "outputs": [],
   "source": [
    "p.rotate90(probability=0.2)"
   ]
  },
  {
   "cell_type": "code",
   "execution_count": 17,
   "metadata": {},
   "outputs": [],
   "source": [
    "p.rotate270(probability=0.2)"
   ]
  },
  {
   "cell_type": "code",
   "execution_count": 18,
   "metadata": {},
   "outputs": [],
   "source": [
    "p.flip_left_right(probability=0.2)"
   ]
  },
  {
   "cell_type": "code",
   "execution_count": 19,
   "metadata": {},
   "outputs": [],
   "source": [
    "p.flip_top_bottom(probability=0.5)"
   ]
  },
  {
   "cell_type": "code",
   "execution_count": 20,
   "metadata": {},
   "outputs": [],
   "source": [
    "p.crop_random(probability=0.3, percentage_area=0.5)"
   ]
  },
  {
   "cell_type": "code",
   "execution_count": 21,
   "metadata": {},
   "outputs": [],
   "source": [
    "#p.resize(probability=1.0, width=80, height=80)"
   ]
  },
  {
   "cell_type": "code",
   "execution_count": 22,
   "metadata": {},
   "outputs": [],
   "source": [
    "#p.random_brightness(probability = 0.5, min_factor=0.4, max_factor=0.9)\n",
    "#p.random_color(probability=0.5, min_factor=0.4, max_factor=0.9)\n",
    "#p.random_contrast(probability=0.5, min_factor=0.9, max_factor=1.4)\n",
    "#p.random_distortion(probability=0.5, grid_width=7, grid_height=8, magnitude=9)\n",
    "#p.random_erasing(probability0.5, rectangle_area=)\n",
    "#p.zoom(probability=0.7, min_factor=1.1, max_factor=1.5)"
   ]
  },
  {
   "cell_type": "code",
   "execution_count": 23,
   "metadata": {},
   "outputs": [],
   "source": [
    "#p.zoom(probability=0.3, min_factor=1.1, max_factor=1.6)"
   ]
  },
  {
   "cell_type": "code",
   "execution_count": 24,
   "metadata": {},
   "outputs": [],
   "source": [
    "p.random_brightness(probability = 0.5, min_factor=0.4, max_factor=0.9)\n",
    "p.random_color(probability=0.5, min_factor=0.4, max_factor=0.9)\n",
    "p.random_contrast(probability=0.5, min_factor=0.9, max_factor=1.4)\n",
    "p.random_distortion(probability=0.5, grid_width=7, grid_height=8, magnitude=9)\n",
    "p.random_erasing(probability=0.5, rectangle_area=0.3)\n",
    "#p.zoom(probability=0.7, min_factor=1.1, max_factor=1.5)"
   ]
  },
  {
   "cell_type": "code",
   "execution_count": 25,
   "metadata": {},
   "outputs": [
    {
     "name": "stderr",
     "output_type": "stream",
     "text": [
      "Processing <PIL.Image.Image image mode=RGB size=115x357 at 0x29556BBB978>: 100%|█| 500/500 [00:33<00:00, 14.88 Samples/s] \n"
     ]
    }
   ],
   "source": [
    "# Change the samples size according to requirements\n",
    "p.sample(500)"
   ]
  },
  {
   "cell_type": "code",
   "execution_count": null,
   "metadata": {},
   "outputs": [],
   "source": []
  }
 ],
 "metadata": {
  "kernelspec": {
   "display_name": "Python 3",
   "language": "python",
   "name": "python3"
  },
  "language_info": {
   "codemirror_mode": {
    "name": "ipython",
    "version": 3
   },
   "file_extension": ".py",
   "mimetype": "text/x-python",
   "name": "python",
   "nbconvert_exporter": "python",
   "pygments_lexer": "ipython3",
   "version": "3.7.3"
  }
 },
 "nbformat": 4,
 "nbformat_minor": 2
}
